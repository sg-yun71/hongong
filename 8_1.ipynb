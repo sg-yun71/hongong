{
 "cells": [
  {
   "metadata": {},
   "cell_type": "markdown",
   "source": "### 케라스 합성곱 층",
   "id": "80265cc6a2401334"
  },
  {
   "cell_type": "code",
   "id": "initial_id",
   "metadata": {
    "collapsed": true,
    "ExecuteTime": {
     "end_time": "2025-01-06T12:11:14.784207Z",
     "start_time": "2025-01-06T12:11:10.510154Z"
    }
   },
   "source": [
    "from tensorflow import keras\n",
    "keras.layers.Conv2D(10, kernel_size=(3,3), activation='relu') # Dense -> Conv2D로 변경"
   ],
   "outputs": [
    {
     "data": {
      "text/plain": [
       "<Conv2D name=conv2d, built=False>"
      ]
     },
     "execution_count": 2,
     "metadata": {},
     "output_type": "execute_result"
    }
   ],
   "execution_count": 2
  },
  {
   "metadata": {},
   "cell_type": "markdown",
   "source": "",
   "id": "a1ed99b489adb4fd"
  },
  {
   "metadata": {
    "ExecuteTime": {
     "end_time": "2025-01-06T12:11:19.237955Z",
     "start_time": "2025-01-06T12:11:19.233633Z"
    }
   },
   "cell_type": "code",
   "source": "keras.layers.Conv2D(10, kernel_size=(3,3), activation='relu', padding='same')",
   "id": "8f9e3bb7efd7c8f9",
   "outputs": [
    {
     "data": {
      "text/plain": [
       "<Conv2D name=conv2d_1, built=False>"
      ]
     },
     "execution_count": 3,
     "metadata": {},
     "output_type": "execute_result"
    }
   ],
   "execution_count": 3
  },
  {
   "metadata": {
    "ExecuteTime": {
     "end_time": "2025-01-06T12:11:57.492897Z",
     "start_time": "2025-01-06T12:11:57.489005Z"
    }
   },
   "cell_type": "code",
   "source": "keras.layers.Conv2D(10, kernel_size=(3,3), activation='relu', padding='same',strides=1)",
   "id": "f3dc22d1a769c306",
   "outputs": [
    {
     "data": {
      "text/plain": [
       "<Conv2D name=conv2d_2, built=False>"
      ]
     },
     "execution_count": 4,
     "metadata": {},
     "output_type": "execute_result"
    }
   ],
   "execution_count": 4
  },
  {
   "metadata": {
    "ExecuteTime": {
     "end_time": "2025-01-06T12:57:57.980206Z",
     "start_time": "2025-01-06T12:57:57.975699Z"
    }
   },
   "cell_type": "code",
   "source": "keras.layers.MaxPooling2D(2)",
   "id": "daf24479e22c0578",
   "outputs": [
    {
     "data": {
      "text/plain": [
       "<MaxPooling2D name=max_pooling2d_1, built=True>"
      ]
     },
     "execution_count": 6,
     "metadata": {},
     "output_type": "execute_result"
    }
   ],
   "execution_count": 6
  },
  {
   "metadata": {
    "ExecuteTime": {
     "end_time": "2025-01-06T12:58:20.176570Z",
     "start_time": "2025-01-06T12:58:20.171794Z"
    }
   },
   "cell_type": "code",
   "source": "keras.layers.MaxPooling2D(2, strides=2, padding='valid')",
   "id": "9c0a2eb6cd19bc70",
   "outputs": [
    {
     "data": {
      "text/plain": [
       "<MaxPooling2D name=max_pooling2d_2, built=True>"
      ]
     },
     "execution_count": 7,
     "metadata": {},
     "output_type": "execute_result"
    }
   ],
   "execution_count": 7
  },
  {
   "metadata": {},
   "cell_type": "code",
   "outputs": [],
   "execution_count": null,
   "source": "",
   "id": "fe233f108a1d8d2c"
  }
 ],
 "metadata": {
  "kernelspec": {
   "display_name": "Python 3",
   "language": "python",
   "name": "python3"
  },
  "language_info": {
   "codemirror_mode": {
    "name": "ipython",
    "version": 2
   },
   "file_extension": ".py",
   "mimetype": "text/x-python",
   "name": "python",
   "nbconvert_exporter": "python",
   "pygments_lexer": "ipython2",
   "version": "2.7.6"
  }
 },
 "nbformat": 4,
 "nbformat_minor": 5
}
