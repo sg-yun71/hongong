{
 "cells": [
  {
   "cell_type": "code",
   "id": "initial_id",
   "metadata": {
    "collapsed": true,
    "ExecuteTime": {
     "end_time": "2025-01-09T13:49:20.304241Z",
     "start_time": "2025-01-09T13:49:19.357626Z"
    }
   },
   "source": [
    "from tensorflow.keras.datasets import imdb\n",
    "import numpy as np\n",
    "\n",
    "# 로컬 데이터 파일 경로 지정\n",
    "file_path = \"./imdb.npz\"\n",
    "\n",
    "# imdb.load_data의 동작을 재정의\n",
    "def load_data(num_words=None, skip_top=0, maxlen=None, seed=113,\n",
    "              start_char=1, oov_char=2, index_from=3):\n",
    "    with np.load(file_path, allow_pickle=True) as f:\n",
    "        x_train, labels_train = f['x_train'], f['y_train']\n",
    "        x_test, labels_test = f['x_test'], f['y_test']\n",
    "\n",
    "    # 정수 인덱스를 num_words 범위 내로 제한\n",
    "    if num_words:\n",
    "        x_train = [[index if index < num_words else oov_char for index in x] for x in x_train]\n",
    "        x_test = [[index if index < num_words else oov_char for index in x] for x in x_test]\n",
    "\n",
    "    return (x_train, labels_train), (x_test, labels_test)\n",
    "\n",
    "# 데이터 로드\n",
    "(train_input, train_target), (test_input, test_target) = load_data(num_words=300)\n",
    "\n",
    "# NumPy 배열로 변환 (선택 사항)\n",
    "train_input = np.array(train_input, dtype=object)\n",
    "test_input = np.array(test_input, dtype=object)\n",
    "\n",
    "# 데이터 확인\n",
    "print(train_input.shape, test_input.shape)"
   ],
   "outputs": [
    {
     "name": "stdout",
     "output_type": "stream",
     "text": [
      "(25000,) (25000,)\n"
     ]
    }
   ],
   "execution_count": 9
  },
  {
   "metadata": {
    "ExecuteTime": {
     "end_time": "2025-01-09T13:49:49.990087Z",
     "start_time": "2025-01-09T13:49:49.987463Z"
    }
   },
   "cell_type": "code",
   "source": "print(len(train_input[0]))",
   "id": "d5e18810d111951f",
   "outputs": [
    {
     "name": "stdout",
     "output_type": "stream",
     "text": [
      "138\n"
     ]
    }
   ],
   "execution_count": 10
  },
  {
   "metadata": {
    "ExecuteTime": {
     "end_time": "2025-01-09T13:50:07.497205Z",
     "start_time": "2025-01-09T13:50:07.494529Z"
    }
   },
   "cell_type": "code",
   "source": "print(len(train_input[1]))",
   "id": "3695f78bee509c3a",
   "outputs": [
    {
     "name": "stdout",
     "output_type": "stream",
     "text": [
      "433\n"
     ]
    }
   ],
   "execution_count": 11
  },
  {
   "metadata": {
    "ExecuteTime": {
     "end_time": "2025-01-09T13:50:25.499875Z",
     "start_time": "2025-01-09T13:50:25.498045Z"
    }
   },
   "cell_type": "code",
   "source": "print(train_input[0])",
   "id": "3a290c77e5426ca2",
   "outputs": [
    {
     "name": "stdout",
     "output_type": "stream",
     "text": [
      "[2, 2, 6, 3, 2, 209, 9, 2, 30, 1, 169, 55, 14, 46, 82, 2, 41, 2, 110, 138, 14, 2, 58, 2, 150, 8, 1, 2, 2, 2, 69, 5, 261, 12, 2, 2, 2, 6, 73, 2, 5, 2, 71, 6, 2, 1, 2, 5, 2, 2, 1, 2, 2, 34, 67, 64, 205, 140, 65, 2, 2, 2, 1, 2, 4, 1, 223, 2, 29, 2, 69, 4, 1, 2, 10, 2, 2, 65, 2, 51, 10, 216, 1, 2, 8, 60, 3, 2, 2, 2, 5, 2, 177, 1, 2, 10, 2, 2, 30, 2, 3, 2, 2, 2, 143, 130, 5, 2, 28, 4, 126, 2, 2, 2, 5, 2, 2, 10, 2, 12, 108, 2, 4, 58, 2, 101, 12, 2, 2, 6, 227, 2, 48, 3, 2, 12, 9, 215]\n"
     ]
    }
   ],
   "execution_count": 12
  },
  {
   "metadata": {
    "ExecuteTime": {
     "end_time": "2025-01-09T13:50:42.408632Z",
     "start_time": "2025-01-09T13:50:42.406215Z"
    }
   },
   "cell_type": "code",
   "source": "print(train_target[:20])",
   "id": "239e07e1627b94f1",
   "outputs": [
    {
     "name": "stdout",
     "output_type": "stream",
     "text": [
      "[1 1 1 1 1 1 1 1 1 1 1 1 1 1 1 1 1 1 1 1]\n"
     ]
    }
   ],
   "execution_count": 13
  },
  {
   "metadata": {},
   "cell_type": "code",
   "outputs": [],
   "execution_count": null,
   "source": "",
   "id": "847e2526d1c161eb"
  }
 ],
 "metadata": {
  "kernelspec": {
   "display_name": "Python 3",
   "language": "python",
   "name": "python3"
  },
  "language_info": {
   "codemirror_mode": {
    "name": "ipython",
    "version": 2
   },
   "file_extension": ".py",
   "mimetype": "text/x-python",
   "name": "python",
   "nbconvert_exporter": "python",
   "pygments_lexer": "ipython2",
   "version": "2.7.6"
  }
 },
 "nbformat": 4,
 "nbformat_minor": 5
}
